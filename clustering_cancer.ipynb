{
 "cells": [
  {
   "cell_type": "markdown",
   "metadata": {},
   "source": [
    "# Unsupervised Learning "
   ]
  },
  {
   "cell_type": "markdown",
   "metadata": {},
   "source": [
    "# 1.0 Clustering - Application to a real-world problem \n",
    "\n",
    "[Using hierarchical clustering to understand lung cancer](http://www.pnas.org/content/98/24/13790#F3)\n",
    "\n",
    "Knowing what type of lung cancer a patient has can be challenging. In one study, experts agreed only 41% of the time! [1]. This is probably because human experts can't analyse 12,600 gene transcript sequences in 186 lung tumor samples just by themselves. This is where machine learning can help. Using unsupervised clustering, can you analyse the genetic profiles lung cancer patients to pinpoint markers of certain substypes of cancer? [2]\n",
    "\n",
    "[1] (Sorensen J B, Hirsch F R, Gazdar A, Olsen J E(1993) Cancer 71:2971–2976, pmid:8387872.  \n",
    "[2] https://www.ncbi.nlm.nih.gov/pubmed/11707567"
   ]
  },
  {
   "cell_type": "markdown",
   "metadata": {},
   "source": [
    "# 1.1 Run hierarchical clustering on the dataset \n",
    "\n",
    "Get the data from [here](pubs.broadinstitute.org/mpr/projects/LUNG/DatasetB_675gene.txt.gz)"
   ]
  },
  {
   "cell_type": "code",
   "execution_count": null,
   "metadata": {},
   "outputs": [],
   "source": []
  },
  {
   "cell_type": "markdown",
   "metadata": {},
   "source": [
    "# 1.2 Visualise the clusters "
   ]
  },
  {
   "cell_type": "code",
   "execution_count": null,
   "metadata": {},
   "outputs": [],
   "source": []
  },
  {
   "cell_type": "markdown",
   "metadata": {},
   "source": [
    "# 1.3 Interpret the clusters\n",
    "![clustering for adenocarcinoma subclasses](F1.large.jpg)"
   ]
  },
  {
   "cell_type": "code",
   "execution_count": null,
   "metadata": {},
   "outputs": [],
   "source": []
  },
  {
   "cell_type": "markdown",
   "metadata": {},
   "source": [
    "# 1.4 Validate the clusters \n",
    "\n",
    "open-ended question for research? what are some heuristics we might want to use to evaluate the quality of our clusters? "
   ]
  },
  {
   "cell_type": "markdown",
   "metadata": {},
   "source": [
    "![clustering for adenocarcinoma subclasses](F2.large.jpg)"
   ]
  },
  {
   "cell_type": "code",
   "execution_count": null,
   "metadata": {},
   "outputs": [],
   "source": [
    "# Futther uses of the dataset \n",
    "# using the data to predict disease outcomes "
   ]
  },
  {
   "cell_type": "markdown",
   "metadata": {},
   "source": [
    "# [2 Clustering - a more complex approach](http://stke.sciencemag.org/content/9/432/re6)\n",
    "\n",
    "- some pitfalls: \n",
    "    - high-dimensional data means that:\n",
    "    underlying structure difficult to visualise, \n",
    "    valid but confliting clusters found in subsets of the data \n",
    "    many interactions in a complex system, in addition to meaningless relationships found by chance \n",
    "    - did not cross-validate results with results from other clustering algorithms\n",
    "    \n",
    "- some recommendations: \n",
    "    - applying cluster validation methods\n",
    "    - determine statistical and biological significance\n",
    "    - account for noise \n",
    "    - evaluate multiple clustering solutions\n",
    "    "
   ]
  },
  {
   "cell_type": "markdown",
   "metadata": {},
   "source": [
    "# 2.1 The effect of high dimensionality on clustering"
   ]
  },
  {
   "cell_type": "code",
   "execution_count": 1,
   "metadata": {},
   "outputs": [],
   "source": [
    "# PCA does not capture clusters of cell lines "
   ]
  },
  {
   "cell_type": "code",
   "execution_count": 2,
   "metadata": {},
   "outputs": [],
   "source": [
    "# however selection of one 10 dimensional subspace does "
   ]
  },
  {
   "cell_type": "markdown",
   "metadata": {},
   "source": [
    "# 2.2 The effect of parameters on clustering\n",
    "- transformation, distance metric or algorithm used can drastically alter the clustering result \n",
    "![effect of algorithm on clustering results](F4.large.jpg)"
   ]
  },
  {
   "cell_type": "code",
   "execution_count": null,
   "metadata": {},
   "outputs": [],
   "source": []
  },
  {
   "cell_type": "markdown",
   "metadata": {},
   "source": [
    "# (VIII) Clustering from scratch "
   ]
  },
  {
   "cell_type": "code",
   "execution_count": null,
   "metadata": {},
   "outputs": [],
   "source": [
    "# expectation maximisation "
   ]
  }
 ],
 "metadata": {
  "kernelspec": {
   "display_name": "Python 3",
   "language": "python",
   "name": "python3"
  },
  "language_info": {
   "codemirror_mode": {
    "name": "ipython",
    "version": 3
   },
   "file_extension": ".py",
   "mimetype": "text/x-python",
   "name": "python",
   "nbconvert_exporter": "python",
   "pygments_lexer": "ipython3",
   "version": "3.6.4"
  }
 },
 "nbformat": 4,
 "nbformat_minor": 2
}
