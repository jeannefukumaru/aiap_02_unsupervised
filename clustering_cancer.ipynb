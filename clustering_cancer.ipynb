{
 "cells": [
  {
   "cell_type": "markdown",
   "metadata": {},
   "source": [
    "# Unsupervised Learning "
   ]
  },
  {
   "cell_type": "markdown",
   "metadata": {},
   "source": [
    "# 1.0 Clustering - Application to a real-world problem \n",
    "\n",
    "    [Using hierarchical clustering to understand lung cancer](http://www.pnas.org/content/98/24/13790#F3)\n",
    "\n",
    "Knowing what type of lung cancer a patient has can be challenging. In one study, experts agreed only 41% of the time! [1]. This is probably because human experts can't analyse 12,600 gene transcript sequences in 186 lung tumor samples just by themselves. This is where machine learning can help. Using unsupervised clustering, can you analyse the genetic profiles lung cancer patients to pinpoint markers of certain substypes of cancer? [2]\n",
    "\n",
    "[1] (Sorensen J B, Hirsch F R, Gazdar A, Olsen J E(1993) Cancer 71:2971–2976, pmid:8387872.  \n",
    "[2] https://www.ncbi.nlm.nih.gov/pubmed/11707567"
   ]
  },
  {
   "cell_type": "markdown",
   "metadata": {},
   "source": [
    "# 1.1 Run hierarchical clustering on the dataset \n",
    "\n",
    "Get the data from [here](pubs.broadinstitute.org/mpr/projects/LUNG/DatasetB_675gene.txt.gz)"
   ]
  },
  {
   "cell_type": "code",
   "execution_count": 56,
   "metadata": {},
   "outputs": [],
   "source": [
    "import pandas as pd \n",
    "import numpy as np\n",
    "from scipy.cluster.hierarchy import dendrogram, linkage\n",
    "from scipy.cluster.hierarchy import fcluster\n",
    "from scipy.cluster.hierarchy import cophenet\n",
    "import scipy.spatial.distance as dist \n",
    "\n",
    "from pylab import rcParams\n",
    "import seaborn as sns \n",
    "import matplotlib.pyplot as plt \n",
    "\n",
    "import sklearn\n",
    "from sklearn.cluster import AgglomerativeClustering\n",
    "import sklearn.metrics as sm "
   ]
  },
  {
   "cell_type": "code",
   "execution_count": 48,
   "metadata": {},
   "outputs": [
    {
     "data": {
      "text/html": [
       "<div>\n",
       "<style scoped>\n",
       "    .dataframe tbody tr th:only-of-type {\n",
       "        vertical-align: middle;\n",
       "    }\n",
       "\n",
       "    .dataframe tbody tr th {\n",
       "        vertical-align: top;\n",
       "    }\n",
       "\n",
       "    .dataframe thead th {\n",
       "        text-align: right;\n",
       "    }\n",
       "</style>\n",
       "<table border=\"1\" class=\"dataframe\">\n",
       "  <thead>\n",
       "    <tr style=\"text-align: right;\">\n",
       "      <th></th>\n",
       "      <th>AD043</th>\n",
       "      <th>AD111</th>\n",
       "      <th>AD114</th>\n",
       "      <th>AD115</th>\n",
       "      <th>AD118</th>\n",
       "      <th>AD119</th>\n",
       "      <th>AD120</th>\n",
       "      <th>AD122</th>\n",
       "      <th>AD123</th>\n",
       "      <th>AD127</th>\n",
       "      <th>...</th>\n",
       "      <th>NL279</th>\n",
       "      <th>NL3104</th>\n",
       "      <th>NL3681</th>\n",
       "      <th>NL4083</th>\n",
       "      <th>NL4353</th>\n",
       "      <th>NL504</th>\n",
       "      <th>NL6084</th>\n",
       "      <th>NL6853</th>\n",
       "      <th>NL6943</th>\n",
       "      <th>NL7530</th>\n",
       "    </tr>\n",
       "    <tr>\n",
       "      <th>gene</th>\n",
       "      <th></th>\n",
       "      <th></th>\n",
       "      <th></th>\n",
       "      <th></th>\n",
       "      <th></th>\n",
       "      <th></th>\n",
       "      <th></th>\n",
       "      <th></th>\n",
       "      <th></th>\n",
       "      <th></th>\n",
       "      <th></th>\n",
       "      <th></th>\n",
       "      <th></th>\n",
       "      <th></th>\n",
       "      <th></th>\n",
       "      <th></th>\n",
       "      <th></th>\n",
       "      <th></th>\n",
       "      <th></th>\n",
       "      <th></th>\n",
       "      <th></th>\n",
       "    </tr>\n",
       "  </thead>\n",
       "  <tbody>\n",
       "    <tr>\n",
       "      <th>signal transducer and activator of transcription 1, 91kD</th>\n",
       "      <td>193.19</td>\n",
       "      <td>369.52</td>\n",
       "      <td>169.81</td>\n",
       "      <td>305.46</td>\n",
       "      <td>413.63</td>\n",
       "      <td>195.14</td>\n",
       "      <td>507.755</td>\n",
       "      <td>296.14</td>\n",
       "      <td>455.065</td>\n",
       "      <td>615.85</td>\n",
       "      <td>...</td>\n",
       "      <td>362.77</td>\n",
       "      <td>188.70</td>\n",
       "      <td>156.09</td>\n",
       "      <td>250.08</td>\n",
       "      <td>160.10</td>\n",
       "      <td>212.84</td>\n",
       "      <td>246.74</td>\n",
       "      <td>161.45</td>\n",
       "      <td>154.51</td>\n",
       "      <td>198.65</td>\n",
       "    </tr>\n",
       "    <tr>\n",
       "      <th>glyceraldehyde-3-phosphate dehydrogenase</th>\n",
       "      <td>2565.55</td>\n",
       "      <td>2362.42</td>\n",
       "      <td>1861.83</td>\n",
       "      <td>2340.89</td>\n",
       "      <td>2317.04</td>\n",
       "      <td>1775.37</td>\n",
       "      <td>2052.360</td>\n",
       "      <td>2467.85</td>\n",
       "      <td>2995.280</td>\n",
       "      <td>2074.51</td>\n",
       "      <td>...</td>\n",
       "      <td>1804.46</td>\n",
       "      <td>774.95</td>\n",
       "      <td>1185.67</td>\n",
       "      <td>1161.04</td>\n",
       "      <td>921.30</td>\n",
       "      <td>2462.27</td>\n",
       "      <td>916.89</td>\n",
       "      <td>930.33</td>\n",
       "      <td>1559.22</td>\n",
       "      <td>1111.39</td>\n",
       "    </tr>\n",
       "    <tr>\n",
       "      <th>glyceraldehyde-3-phosphate dehydrogenase</th>\n",
       "      <td>3361.85</td>\n",
       "      <td>3262.46</td>\n",
       "      <td>2967.65</td>\n",
       "      <td>3473.33</td>\n",
       "      <td>3340.84</td>\n",
       "      <td>2536.74</td>\n",
       "      <td>3186.560</td>\n",
       "      <td>3753.37</td>\n",
       "      <td>4116.590</td>\n",
       "      <td>3085.19</td>\n",
       "      <td>...</td>\n",
       "      <td>2578.14</td>\n",
       "      <td>1522.94</td>\n",
       "      <td>2286.45</td>\n",
       "      <td>2160.54</td>\n",
       "      <td>1818.58</td>\n",
       "      <td>3219.49</td>\n",
       "      <td>2440.02</td>\n",
       "      <td>1609.02</td>\n",
       "      <td>2361.19</td>\n",
       "      <td>2050.42</td>\n",
       "    </tr>\n",
       "    <tr>\n",
       "      <th>ribosomal protein L28</th>\n",
       "      <td>3810.86</td>\n",
       "      <td>2616.13</td>\n",
       "      <td>2563.59</td>\n",
       "      <td>2876.46</td>\n",
       "      <td>3354.31</td>\n",
       "      <td>3449.94</td>\n",
       "      <td>3344.000</td>\n",
       "      <td>3299.65</td>\n",
       "      <td>3066.460</td>\n",
       "      <td>2725.63</td>\n",
       "      <td>...</td>\n",
       "      <td>3123.36</td>\n",
       "      <td>3171.78</td>\n",
       "      <td>3070.95</td>\n",
       "      <td>3079.19</td>\n",
       "      <td>3013.06</td>\n",
       "      <td>3298.57</td>\n",
       "      <td>3233.64</td>\n",
       "      <td>2938.96</td>\n",
       "      <td>2858.82</td>\n",
       "      <td>3844.74</td>\n",
       "    </tr>\n",
       "    <tr>\n",
       "      <th>trefoil factor 3 (intestinal)</th>\n",
       "      <td>2975.29</td>\n",
       "      <td>28.23</td>\n",
       "      <td>41.46</td>\n",
       "      <td>2201.87</td>\n",
       "      <td>4.09</td>\n",
       "      <td>87.57</td>\n",
       "      <td>601.745</td>\n",
       "      <td>1885.56</td>\n",
       "      <td>15.745</td>\n",
       "      <td>123.50</td>\n",
       "      <td>...</td>\n",
       "      <td>40.60</td>\n",
       "      <td>47.05</td>\n",
       "      <td>43.66</td>\n",
       "      <td>90.05</td>\n",
       "      <td>111.34</td>\n",
       "      <td>2.45</td>\n",
       "      <td>119.21</td>\n",
       "      <td>64.48</td>\n",
       "      <td>1.00</td>\n",
       "      <td>21.34</td>\n",
       "    </tr>\n",
       "  </tbody>\n",
       "</table>\n",
       "<p>5 rows × 156 columns</p>\n",
       "</div>"
      ],
      "text/plain": [
       "                                                      AD043    AD111    AD114  \\\n",
       "gene                                                                            \n",
       "signal transducer and activator of transcriptio...   193.19   369.52   169.81   \n",
       "glyceraldehyde-3-phosphate dehydrogenase            2565.55  2362.42  1861.83   \n",
       "glyceraldehyde-3-phosphate dehydrogenase            3361.85  3262.46  2967.65   \n",
       "ribosomal protein L28                               3810.86  2616.13  2563.59   \n",
       "trefoil factor 3 (intestinal)                       2975.29    28.23    41.46   \n",
       "\n",
       "                                                      AD115    AD118    AD119  \\\n",
       "gene                                                                            \n",
       "signal transducer and activator of transcriptio...   305.46   413.63   195.14   \n",
       "glyceraldehyde-3-phosphate dehydrogenase            2340.89  2317.04  1775.37   \n",
       "glyceraldehyde-3-phosphate dehydrogenase            3473.33  3340.84  2536.74   \n",
       "ribosomal protein L28                               2876.46  3354.31  3449.94   \n",
       "trefoil factor 3 (intestinal)                       2201.87     4.09    87.57   \n",
       "\n",
       "                                                       AD120    AD122  \\\n",
       "gene                                                                    \n",
       "signal transducer and activator of transcriptio...   507.755   296.14   \n",
       "glyceraldehyde-3-phosphate dehydrogenase            2052.360  2467.85   \n",
       "glyceraldehyde-3-phosphate dehydrogenase            3186.560  3753.37   \n",
       "ribosomal protein L28                               3344.000  3299.65   \n",
       "trefoil factor 3 (intestinal)                        601.745  1885.56   \n",
       "\n",
       "                                                       AD123    AD127  \\\n",
       "gene                                                                    \n",
       "signal transducer and activator of transcriptio...   455.065   615.85   \n",
       "glyceraldehyde-3-phosphate dehydrogenase            2995.280  2074.51   \n",
       "glyceraldehyde-3-phosphate dehydrogenase            4116.590  3085.19   \n",
       "ribosomal protein L28                               3066.460  2725.63   \n",
       "trefoil factor 3 (intestinal)                         15.745   123.50   \n",
       "\n",
       "                                                     ...       NL279   NL3104  \\\n",
       "gene                                                 ...                        \n",
       "signal transducer and activator of transcriptio...   ...      362.77   188.70   \n",
       "glyceraldehyde-3-phosphate dehydrogenase             ...     1804.46   774.95   \n",
       "glyceraldehyde-3-phosphate dehydrogenase             ...     2578.14  1522.94   \n",
       "ribosomal protein L28                                ...     3123.36  3171.78   \n",
       "trefoil factor 3 (intestinal)                        ...       40.60    47.05   \n",
       "\n",
       "                                                     NL3681   NL4083   NL4353  \\\n",
       "gene                                                                            \n",
       "signal transducer and activator of transcriptio...   156.09   250.08   160.10   \n",
       "glyceraldehyde-3-phosphate dehydrogenase            1185.67  1161.04   921.30   \n",
       "glyceraldehyde-3-phosphate dehydrogenase            2286.45  2160.54  1818.58   \n",
       "ribosomal protein L28                               3070.95  3079.19  3013.06   \n",
       "trefoil factor 3 (intestinal)                         43.66    90.05   111.34   \n",
       "\n",
       "                                                      NL504   NL6084   NL6853  \\\n",
       "gene                                                                            \n",
       "signal transducer and activator of transcriptio...   212.84   246.74   161.45   \n",
       "glyceraldehyde-3-phosphate dehydrogenase            2462.27   916.89   930.33   \n",
       "glyceraldehyde-3-phosphate dehydrogenase            3219.49  2440.02  1609.02   \n",
       "ribosomal protein L28                               3298.57  3233.64  2938.96   \n",
       "trefoil factor 3 (intestinal)                          2.45   119.21    64.48   \n",
       "\n",
       "                                                     NL6943   NL7530  \n",
       "gene                                                                  \n",
       "signal transducer and activator of transcriptio...   154.51   198.65  \n",
       "glyceraldehyde-3-phosphate dehydrogenase            1559.22  1111.39  \n",
       "glyceraldehyde-3-phosphate dehydrogenase            2361.19  2050.42  \n",
       "ribosomal protein L28                               2858.82  3844.74  \n",
       "trefoil factor 3 (intestinal)                          1.00    21.34  \n",
       "\n",
       "[5 rows x 156 columns]"
      ]
     },
     "execution_count": 48,
     "metadata": {},
     "output_type": "execute_result"
    }
   ],
   "source": [
    "df = pd.read_csv('data/interim/DatasetB_675gene.csv', index_col='gene')\n",
    "df.head()"
   ]
  },
  {
   "cell_type": "code",
   "execution_count": 49,
   "metadata": {},
   "outputs": [
    {
     "data": {
      "text/plain": [
       "(675, 156)"
      ]
     },
     "execution_count": 49,
     "metadata": {},
     "output_type": "execute_result"
    }
   ],
   "source": [
    "df.shape"
   ]
  },
  {
   "cell_type": "code",
   "execution_count": 50,
   "metadata": {},
   "outputs": [
    {
     "data": {
      "text/plain": [
       "(675, 156)"
      ]
     },
     "execution_count": 50,
     "metadata": {},
     "output_type": "execute_result"
    }
   ],
   "source": [
    "df = np.asarray(df)\n",
    "df.shape"
   ]
  },
  {
   "cell_type": "code",
   "execution_count": 57,
   "metadata": {},
   "outputs": [],
   "source": [
    "distMatrix = dist.pdist(df)"
   ]
  },
  {
   "cell_type": "code",
   "execution_count": 58,
   "metadata": {},
   "outputs": [],
   "source": [
    "distSquareMatrix = dist.squareform(distMatrix)"
   ]
  },
  {
   "cell_type": "code",
   "execution_count": 59,
   "metadata": {},
   "outputs": [
    {
     "name": "stderr",
     "output_type": "stream",
     "text": [
      "/Users/nus/anaconda3/lib/python3.6/site-packages/ipykernel_launcher.py:1: ClusterWarning: scipy.cluster: The symmetric non-negative hollow observation matrix looks suspiciously like an uncondensed distance matrix\n",
      "  \"\"\"Entry point for launching an IPython kernel.\n"
     ]
    }
   ],
   "source": [
    "linkageMatrix = linkage(distSquareMatrix)"
   ]
  },
  {
   "cell_type": "code",
   "execution_count": 84,
   "metadata": {},
   "outputs": [
    {
     "data": {
      "text/plain": [
       "(674, 4)"
      ]
     },
     "execution_count": 84,
     "metadata": {},
     "output_type": "execute_result"
    }
   ],
   "source": [
    "linkageMatrix.shape"
   ]
  },
  {
   "cell_type": "code",
   "execution_count": 63,
   "metadata": {},
   "outputs": [],
   "source": [
    "leaves = dendro['leaves']"
   ]
  },
  {
   "cell_type": "code",
   "execution_count": 66,
   "metadata": {},
   "outputs": [
    {
     "data": {
      "text/plain": [
       "array([[1609.47, 6569.86, 5273.47, ..., 2760.57, 2572.2 , 6353.19],\n",
       "       [4182.14, 4389.94, 4743.8 , ..., 4987.39, 4974.37, 6179.45],\n",
       "       [4196.25, 6207.61, 6858.12, ..., 1402.91,  947.9 , 2316.53],\n",
       "       ...,\n",
       "       [  63.2 ,  965.47, 2940.51, ..., 7589.39, 8405.11, 7175.46],\n",
       "       [3036.53, 4562.19, 5120.39, ..., 1434.83, 1409.36, 3861.48],\n",
       "       [4261.15, 3910.93, 3264.08, ..., 4538.78, 4367.32, 3897.2 ]])"
      ]
     },
     "execution_count": 66,
     "metadata": {},
     "output_type": "execute_result"
    }
   ],
   "source": [
    "transformedData = df[leaves,:]\n",
    "transformedData"
   ]
  },
  {
   "cell_type": "markdown",
   "metadata": {},
   "source": [
    "# 1.2 Visualise the clusters "
   ]
  },
  {
   "cell_type": "code",
   "execution_count": 82,
   "metadata": {},
   "outputs": [
    {
     "name": "stderr",
     "output_type": "stream",
     "text": [
      "/Users/nus/anaconda3/lib/python3.6/site-packages/ipykernel_launcher.py:4: ClusterWarning: scipy.cluster: The symmetric non-negative hollow observation matrix looks suspiciously like an uncondensed distance matrix\n",
      "  after removing the cwd from sys.path.\n",
      "/Users/nus/anaconda3/lib/python3.6/site-packages/matplotlib/figure.py:418: UserWarning: matplotlib is currently using a non-GUI backend, so cannot show the figure\n",
      "  \"matplotlib is currently using a non-GUI backend, \"\n"
     ]
    },
    {
     "data": {
      "image/png": "[encoded data removed]",
      "text/plain": [
       "<matplotlib.figure.Figure at 0x624da1a20>"
      ]
     },
     "metadata": {},
     "output_type": "display_data"
    }
   ],
   "source": [
    "# plot dendrogram \n",
    "fig = pylab.figure()\n",
    "axdendro = fig.add_axes([0.09, 0.1,0.2,0.8])\n",
    "Y = linkage(distSquareMatrix, method='centroid')\n",
    "Z = dendrogram(Y, orientation='top')\n",
    "\n",
    "# plot distance matrix \n",
    "# axmatrix = fig.add_axes([0.3,0.1,0.6,0.8])\n",
    "# index = Z['leaves']\n",
    "# D = distSquareMatrix[index,:]\n",
    "# D = distSquareMatrix[:,index]\n",
    "# im = axmatrix.matshow(D, aspect='auto', origin='lower')\n",
    "# axmatrix.set_xticks([])\n",
    "# axmatrix.set_yticks([])\n",
    "\n",
    "# Plot colorbar.\n",
    "#axcolor = fig.add_axes([0.91,0.1,0.02,0.8])\n",
    "#pylab.colorbar(im, cax=axcolor)\n",
    "\n",
    "# Display and save figure.\n",
    "fig.set_size_inches(100.5, 10.5)\n",
    "fig.show()\n",
    "fig.savefig('dendrogram.png')"
   ]
  },
  {
   "cell_type": "markdown",
   "metadata": {},
   "source": [
    "# 1.3 Interpret the clusters\n",
    "![clustering for adenocarcinoma subclasses](F1.large.jpg)"
   ]
  },
  {
   "cell_type": "code",
   "execution_count": null,
   "metadata": {},
   "outputs": [],
   "source": []
  },
  {
   "cell_type": "markdown",
   "metadata": {},
   "source": [
    "# 1.4 Validate the clusters \n",
    "\n",
    "open-ended question for research? what are some heuristics we might want to use to evaluate the quality of our clusters? "
   ]
  },
  {
   "cell_type": "markdown",
   "metadata": {},
   "source": [
    "![clustering for adenocarcinoma subclasses](F2.large.jpg)"
   ]
  },
  {
   "cell_type": "code",
   "execution_count": null,
   "metadata": {},
   "outputs": [],
   "source": [
    "# Futther uses of the dataset \n",
    "# using the data to predict disease outcomes "
   ]
  },
  {
   "cell_type": "markdown",
   "metadata": {},
   "source": [
    "# [2 Clustering - a more complex approach](http://stke.sciencemag.org/content/9/432/re6)\n",
    "\n",
    "- some pitfalls: \n",
    "    - high-dimensional data means that:\n",
    "    underlying structure difficult to visualise, \n",
    "    valid but confliting clusters found in subsets of the data \n",
    "    many interactions in a complex system, in addition to meaningless relationships found by chance \n",
    "    - did not cross-validate results with results from other clustering algorithms\n",
    "    \n",
    "- some recommendations: \n",
    "    - applying cluster validation methods\n",
    "    - determine statistical and biological significance\n",
    "    - account for noise \n",
    "    - evaluate multiple clustering solutions\n",
    "    "
   ]
  },
  {
   "cell_type": "markdown",
   "metadata": {},
   "source": [
    "# 2.1 The effect of high dimensionality on clustering"
   ]
  },
  {
   "cell_type": "code",
   "execution_count": 1,
   "metadata": {},
   "outputs": [],
   "source": [
    "# PCA does not capture clusters of cell lines "
   ]
  },
  {
   "cell_type": "code",
   "execution_count": 2,
   "metadata": {},
   "outputs": [],
   "source": [
    "# however selection of one 10 dimensional subspace does "
   ]
  },
  {
   "cell_type": "markdown",
   "metadata": {},
   "source": [
    "# 2.2 The effect of parameters on clustering\n",
    "- transformation, distance metric or algorithm used can drastically alter the clustering result \n",
    "![effect of algorithm on clustering results](F4.large.jpg)"
   ]
  },
  {
   "cell_type": "code",
   "execution_count": null,
   "metadata": {},
   "outputs": [],
   "source": []
  },
  {
   "cell_type": "markdown",
   "metadata": {},
   "source": [
    "# (VIII) Clustering from scratch "
   ]
  },
  {
   "cell_type": "code",
   "execution_count": null,
   "metadata": {},
   "outputs": [],
   "source": [
    "# expectation maximisation "
   ]
  }
 ],
 "metadata": {
  "kernelspec": {
   "display_name": "Python 3",
   "language": "python",
   "name": "python3"
  },
  "language_info": {
   "codemirror_mode": {
    "name": "ipython",
    "version": 3
   },
   "file_extension": ".py",
   "mimetype": "text/x-python",
   "name": "python",
   "nbconvert_exporter": "python",
   "pygments_lexer": "ipython3",
   "version": "3.6.4"
  }
 },
 "nbformat": 4,
 "nbformat_minor": 2
}
